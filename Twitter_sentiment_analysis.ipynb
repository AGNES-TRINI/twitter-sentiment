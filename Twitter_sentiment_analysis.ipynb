{
  "nbformat": 4,
  "nbformat_minor": 0,
  "metadata": {
    "colab": {
      "name": "Twitter sentiment analysis.ipynb",
      "provenance": [],
      "collapsed_sections": []
    },
    "kernelspec": {
      "name": "python3",
      "display_name": "Python 3"
    },
    "language_info": {
      "name": "python"
    }
  },
  "cells": [
    {
      "cell_type": "code",
      "metadata": {
        "id": "j_Kd9tqlLV-L"
      },
      "source": [
        "import tweepy\n",
        "from textblob import TextBlob\n",
        "from wordcloud import WordCloud\n",
        "import pandas as pd\n",
        "import numpy as np\n",
        "import re\n",
        "import matplotlib.pyplot as plt\n",
        "import requests\n",
        "import requests_oauthlib\n",
        "plt.style.use('fivethirtyeight')"
      ],
      "execution_count": null,
      "outputs": []
    },
    {
      "cell_type": "code",
      "metadata": {
        "id": "QNfSIznXQBOh"
      },
      "source": [
        "# Replace the values below with yours\n",
        "ACCESS_TOKEN = '1063812383628386304-38F6H8SiJ7dCoMs6ZfPSUplDzb1sPk'\n",
        "ACCESS_SECRET = 'ESg5Jkj1F7nq2W2xFQt0axNdYTQKexSaQBKZJj4SC9bRJ'\n",
        "CONSUMER_KEY = 'DrIbP9RGfeWAJgMZ2XVLUOF1s'\n",
        "CONSUMER_SECRET = 'XOvl7AjR06z8XTWMXRELdFPq0A4fRig8jddOureIV53fumw7cy'\n"
      ],
      "execution_count": null,
      "outputs": []
    },
    {
      "cell_type": "code",
      "metadata": {
        "id": "_vgsmVXsRZ6Y",
        "colab": {
          "resources": {
            "http://localhost:8080/nbextensions/google.colab/files.js": {
              "data": "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",
              "ok": true,
              "headers": [
                [
                  "content-type",
                  "application/javascript"
                ]
              ],
              "status": 200,
              "status_text": "OK"
            }
          },
          "base_uri": "https://localhost:8080/",
          "height": 37
        },
        "outputId": "30ef8b12-6dc6-48ce-cc2a-f1a3cfbddc9c"
      },
      "source": [
        "from google.colab import files\n",
        "uploaded = files.upload()"
      ],
      "execution_count": null,
      "outputs": [
        {
          "output_type": "display_data",
          "data": {
            "text/html": [
              "\n",
              "     <input type=\"file\" id=\"files-b004d213-3339-4114-8e90-29b0c19f0539\" name=\"files[]\" multiple disabled\n",
              "        style=\"border:none\" />\n",
              "     <output id=\"result-b004d213-3339-4114-8e90-29b0c19f0539\">\n",
              "      Upload widget is only available when the cell has been executed in the\n",
              "      current browser session. Please rerun this cell to enable.\n",
              "      </output>\n",
              "      <script src=\"/nbextensions/google.colab/files.js\"></script> "
            ],
            "text/plain": [
              "<IPython.core.display.HTML object>"
            ]
          },
          "metadata": {}
        }
      ]
    },
    {
      "cell_type": "code",
      "metadata": {
        "id": "eSn3_1hEVzqm"
      },
      "source": [
        "authenticate = tweepy.OAuthHandler(CONSUMER_KEY, CONSUMER_SECRET)\n",
        "authenticate.set_access_token(ACCESS_TOKEN, ACCESS_SECRET)\n",
        "api = tweepy.API(authenticate, wait_on_rate_limit=True)"
      ],
      "execution_count": null,
      "outputs": []
    },
    {
      "cell_type": "code",
      "metadata": {
        "colab": {
          "base_uri": "https://localhost:8080/"
        },
        "id": "B_1THa4UXTt1",
        "outputId": "e97bef8e-a08a-4e87-9fc2-40db2314a03a"
      },
      "source": [
        "#extract 100 tweets from twitter user\n",
        "posts = api.user_timeline(screen_name=\"BillGates\", count=100, lang=\"en\", tweet_mode=\"extended\")\n",
        "\n",
        "#print last 5 tweets from the account\n",
        "print(\"show the 5 recent tweets:\\n\")\n",
        "i = 1\n",
        "for tweet in posts[0:5]:\n",
        "   print(str(i) + ') '+ tweet.full_text + '\\n')\n",
        "   i = i + 1"
      ],
      "execution_count": null,
      "outputs": [
        {
          "output_type": "stream",
          "name": "stdout",
          "text": [
            "show the 5 recent tweets:\n",
            "\n",
            "1) Robots will play a huge part in our future, and fiction like Kazuo Ishiguro's Klara and the Sun is a great way to explore what that might mean. https://t.co/qlotAHk0ST\n",
            "\n",
            "2) Accelerating long-duration energy storage innovation can significantly reduce annual CO2 emissions and lay the foundation for a net-zero economy by 2050. https://t.co/P2I5OcQEXa\n",
            "\n",
            "3) The @gatesfoundation is supporting GIISER which is working to increase the in-country capacity for rapid evaluation of variants on the African continent. This will help us better understand variants of concern and how the current vaccines may perform. https://t.co/yz9XWS4LWH\n",
            "\n",
            "4) South Africa did the right thing by reporting these cases. They have invested heavily in R&amp;D including genomic sequencing capabilities which have made it possible to quickly identify variants, like Omicron, and help the world respond appropriately.\n",
            "\n",
            "5) Experts like Trevor Bedford have done an excellent job explaining what scientists have learned so far about the new variant of concern known as Omicron. https://t.co/cix77NasZs\n",
            "\n"
          ]
        }
      ]
    },
    {
      "cell_type": "code",
      "metadata": {
        "colab": {
          "base_uri": "https://localhost:8080/",
          "height": 206
        },
        "id": "bZ5Qgcp1b5En",
        "outputId": "f2ea84f6-2760-4b4d-d7dd-7799d54482f9"
      },
      "source": [
        "df = pd.DataFrame( [tweet.full_text for tweet in posts] ,columns=['Tweets'])\n",
        "df.head()"
      ],
      "execution_count": null,
      "outputs": [
        {
          "output_type": "execute_result",
          "data": {
            "text/html": [
              "<div>\n",
              "<style scoped>\n",
              "    .dataframe tbody tr th:only-of-type {\n",
              "        vertical-align: middle;\n",
              "    }\n",
              "\n",
              "    .dataframe tbody tr th {\n",
              "        vertical-align: top;\n",
              "    }\n",
              "\n",
              "    .dataframe thead th {\n",
              "        text-align: right;\n",
              "    }\n",
              "</style>\n",
              "<table border=\"1\" class=\"dataframe\">\n",
              "  <thead>\n",
              "    <tr style=\"text-align: right;\">\n",
              "      <th></th>\n",
              "      <th>Tweets</th>\n",
              "    </tr>\n",
              "  </thead>\n",
              "  <tbody>\n",
              "    <tr>\n",
              "      <th>0</th>\n",
              "      <td>Robots will play a huge part in our future, an...</td>\n",
              "    </tr>\n",
              "    <tr>\n",
              "      <th>1</th>\n",
              "      <td>Accelerating long-duration energy storage inno...</td>\n",
              "    </tr>\n",
              "    <tr>\n",
              "      <th>2</th>\n",
              "      <td>The @gatesfoundation is supporting GIISER whic...</td>\n",
              "    </tr>\n",
              "    <tr>\n",
              "      <th>3</th>\n",
              "      <td>South Africa did the right thing by reporting ...</td>\n",
              "    </tr>\n",
              "    <tr>\n",
              "      <th>4</th>\n",
              "      <td>Experts like Trevor Bedford have done an excel...</td>\n",
              "    </tr>\n",
              "  </tbody>\n",
              "</table>\n",
              "</div>"
            ],
            "text/plain": [
              "                                              Tweets\n",
              "0  Robots will play a huge part in our future, an...\n",
              "1  Accelerating long-duration energy storage inno...\n",
              "2  The @gatesfoundation is supporting GIISER whic...\n",
              "3  South Africa did the right thing by reporting ...\n",
              "4  Experts like Trevor Bedford have done an excel..."
            ]
          },
          "metadata": {},
          "execution_count": 7
        }
      ]
    },
    {
      "cell_type": "code",
      "metadata": {
        "colab": {
          "base_uri": "https://localhost:8080/",
          "height": 423
        },
        "id": "onpFKrzcd0Kx",
        "outputId": "d511a640-3743-4b74-e030-71dd247da5fe"
      },
      "source": [
        "#create a function to clean the tweets\n",
        "def cleanTxt(text):\n",
        "  text=re.sub(r'@[A-Za-z0-9]+', '', text) #remove @mentions\n",
        "  text=re.sub(r'#','', text) #remove the # symbol\n",
        "  text=re.sub(r'RT[\\s]+', '', text) #removing RT\n",
        "  text=re.sub(r'https?:\\/\\/\\S+', '', text) #removing the Hyperlink\n",
        "\n",
        "  return text\n",
        "\n",
        "\n",
        "df['Tweets']= df['Tweets'].apply(cleanTxt)\n",
        "df\n",
        " "
      ],
      "execution_count": null,
      "outputs": [
        {
          "output_type": "execute_result",
          "data": {
            "text/html": [
              "<div>\n",
              "<style scoped>\n",
              "    .dataframe tbody tr th:only-of-type {\n",
              "        vertical-align: middle;\n",
              "    }\n",
              "\n",
              "    .dataframe tbody tr th {\n",
              "        vertical-align: top;\n",
              "    }\n",
              "\n",
              "    .dataframe thead th {\n",
              "        text-align: right;\n",
              "    }\n",
              "</style>\n",
              "<table border=\"1\" class=\"dataframe\">\n",
              "  <thead>\n",
              "    <tr style=\"text-align: right;\">\n",
              "      <th></th>\n",
              "      <th>Tweets</th>\n",
              "    </tr>\n",
              "  </thead>\n",
              "  <tbody>\n",
              "    <tr>\n",
              "      <th>0</th>\n",
              "      <td>Robots will play a huge part in our future, an...</td>\n",
              "    </tr>\n",
              "    <tr>\n",
              "      <th>1</th>\n",
              "      <td>Accelerating long-duration energy storage inno...</td>\n",
              "    </tr>\n",
              "    <tr>\n",
              "      <th>2</th>\n",
              "      <td>The  is supporting GIISER which is working to ...</td>\n",
              "    </tr>\n",
              "    <tr>\n",
              "      <th>3</th>\n",
              "      <td>South Africa did the right thing by reporting ...</td>\n",
              "    </tr>\n",
              "    <tr>\n",
              "      <th>4</th>\n",
              "      <td>Experts like Trevor Bedford have done an excel...</td>\n",
              "    </tr>\n",
              "    <tr>\n",
              "      <th>...</th>\n",
              "      <td>...</td>\n",
              "    </tr>\n",
              "    <tr>\n",
              "      <th>95</th>\n",
              "      <td>A global response will help the world end the ...</td>\n",
              "    </tr>\n",
              "    <tr>\n",
              "      <th>96</th>\n",
              "      <td>Earlier I shared three actions that leaders co...</td>\n",
              "    </tr>\n",
              "    <tr>\n",
              "      <th>97</th>\n",
              "      <td>If we want to stop Alzheimer’s disease, one of...</td>\n",
              "    </tr>\n",
              "    <tr>\n",
              "      <th>98</th>\n",
              "      <td>There are three things that can be done in the...</td>\n",
              "    </tr>\n",
              "    <tr>\n",
              "      <th>99</th>\n",
              "      <td>WorldAlzheimersDay is an inspiring reminder th...</td>\n",
              "    </tr>\n",
              "  </tbody>\n",
              "</table>\n",
              "<p>100 rows × 1 columns</p>\n",
              "</div>"
            ],
            "text/plain": [
              "                                               Tweets\n",
              "0   Robots will play a huge part in our future, an...\n",
              "1   Accelerating long-duration energy storage inno...\n",
              "2   The  is supporting GIISER which is working to ...\n",
              "3   South Africa did the right thing by reporting ...\n",
              "4   Experts like Trevor Bedford have done an excel...\n",
              "..                                                ...\n",
              "95  A global response will help the world end the ...\n",
              "96  Earlier I shared three actions that leaders co...\n",
              "97  If we want to stop Alzheimer’s disease, one of...\n",
              "98  There are three things that can be done in the...\n",
              "99  WorldAlzheimersDay is an inspiring reminder th...\n",
              "\n",
              "[100 rows x 1 columns]"
            ]
          },
          "metadata": {},
          "execution_count": 8
        }
      ]
    },
    {
      "cell_type": "code",
      "metadata": {
        "colab": {
          "base_uri": "https://localhost:8080/",
          "height": 423
        },
        "id": "xgZCO4_6lAJR",
        "outputId": "433f2b68-c9fa-4622-94c9-25d19cad7972"
      },
      "source": [
        "#create a function to get subjectivity\n",
        "def getSubjectivity(text):\n",
        "  return TextBlob(text).sentiment.subjectivity\n",
        "\n",
        "#create a function to get polarity\n",
        "def getPolarity(text):\n",
        "  return TextBlob(text).sentiment.polarity\n",
        "\n",
        "#create two new columns\n",
        "df['Subjectivity'] = df['Tweets'].apply(getSubjectivity)\n",
        "df['Polarity'] = df['Tweets'].apply(getPolarity)\n",
        "df\n"
      ],
      "execution_count": null,
      "outputs": [
        {
          "output_type": "execute_result",
          "data": {
            "text/html": [
              "<div>\n",
              "<style scoped>\n",
              "    .dataframe tbody tr th:only-of-type {\n",
              "        vertical-align: middle;\n",
              "    }\n",
              "\n",
              "    .dataframe tbody tr th {\n",
              "        vertical-align: top;\n",
              "    }\n",
              "\n",
              "    .dataframe thead th {\n",
              "        text-align: right;\n",
              "    }\n",
              "</style>\n",
              "<table border=\"1\" class=\"dataframe\">\n",
              "  <thead>\n",
              "    <tr style=\"text-align: right;\">\n",
              "      <th></th>\n",
              "      <th>Tweets</th>\n",
              "      <th>Subjectivity</th>\n",
              "      <th>Polarity</th>\n",
              "    </tr>\n",
              "  </thead>\n",
              "  <tbody>\n",
              "    <tr>\n",
              "      <th>0</th>\n",
              "      <td>Robots will play a huge part in our future, an...</td>\n",
              "      <td>0.615625</td>\n",
              "      <td>0.221875</td>\n",
              "    </tr>\n",
              "    <tr>\n",
              "      <th>1</th>\n",
              "      <td>Accelerating long-duration energy storage inno...</td>\n",
              "      <td>0.875000</td>\n",
              "      <td>0.375000</td>\n",
              "    </tr>\n",
              "    <tr>\n",
              "      <th>2</th>\n",
              "      <td>The  is supporting GIISER which is working to ...</td>\n",
              "      <td>0.287500</td>\n",
              "      <td>0.187500</td>\n",
              "    </tr>\n",
              "    <tr>\n",
              "      <th>3</th>\n",
              "      <td>South Africa did the right thing by reporting ...</td>\n",
              "      <td>0.607143</td>\n",
              "      <td>0.183810</td>\n",
              "    </tr>\n",
              "    <tr>\n",
              "      <th>4</th>\n",
              "      <td>Experts like Trevor Bedford have done an excel...</td>\n",
              "      <td>0.818182</td>\n",
              "      <td>0.412121</td>\n",
              "    </tr>\n",
              "    <tr>\n",
              "      <th>...</th>\n",
              "      <td>...</td>\n",
              "      <td>...</td>\n",
              "      <td>...</td>\n",
              "    </tr>\n",
              "    <tr>\n",
              "      <th>95</th>\n",
              "      <td>A global response will help the world end the ...</td>\n",
              "      <td>0.480000</td>\n",
              "      <td>0.320000</td>\n",
              "    </tr>\n",
              "    <tr>\n",
              "      <th>96</th>\n",
              "      <td>Earlier I shared three actions that leaders co...</td>\n",
              "      <td>0.500000</td>\n",
              "      <td>0.250000</td>\n",
              "    </tr>\n",
              "    <tr>\n",
              "      <th>97</th>\n",
              "      <td>If we want to stop Alzheimer’s disease, one of...</td>\n",
              "      <td>0.375000</td>\n",
              "      <td>0.375000</td>\n",
              "    </tr>\n",
              "    <tr>\n",
              "      <th>98</th>\n",
              "      <td>There are three things that can be done in the...</td>\n",
              "      <td>0.500000</td>\n",
              "      <td>0.200000</td>\n",
              "    </tr>\n",
              "    <tr>\n",
              "      <th>99</th>\n",
              "      <td>WorldAlzheimersDay is an inspiring reminder th...</td>\n",
              "      <td>0.885417</td>\n",
              "      <td>0.277083</td>\n",
              "    </tr>\n",
              "  </tbody>\n",
              "</table>\n",
              "<p>100 rows × 3 columns</p>\n",
              "</div>"
            ],
            "text/plain": [
              "                                               Tweets  Subjectivity  Polarity\n",
              "0   Robots will play a huge part in our future, an...      0.615625  0.221875\n",
              "1   Accelerating long-duration energy storage inno...      0.875000  0.375000\n",
              "2   The  is supporting GIISER which is working to ...      0.287500  0.187500\n",
              "3   South Africa did the right thing by reporting ...      0.607143  0.183810\n",
              "4   Experts like Trevor Bedford have done an excel...      0.818182  0.412121\n",
              "..                                                ...           ...       ...\n",
              "95  A global response will help the world end the ...      0.480000  0.320000\n",
              "96  Earlier I shared three actions that leaders co...      0.500000  0.250000\n",
              "97  If we want to stop Alzheimer’s disease, one of...      0.375000  0.375000\n",
              "98  There are three things that can be done in the...      0.500000  0.200000\n",
              "99  WorldAlzheimersDay is an inspiring reminder th...      0.885417  0.277083\n",
              "\n",
              "[100 rows x 3 columns]"
            ]
          },
          "metadata": {},
          "execution_count": 9
        }
      ]
    },
    {
      "cell_type": "code",
      "metadata": {
        "colab": {
          "base_uri": "https://localhost:8080/",
          "height": 247
        },
        "id": "Ql7CjvLfnYYR",
        "outputId": "bf190e22-8c55-4545-b5a1-183ca304b1f9"
      },
      "source": [
        "#plot the word cloud\n",
        "allWords = ' '.join( [twts for twts in df['Tweets']])\n",
        "wordCloud = WordCloud(width = 500, height=300, random_state = 21, max_font_size = 119).generate(allWords)\n",
        "\n",
        "plt.imshow(wordCloud, interpolation = \"bilinear\")\n",
        "plt.axis('off')\n",
        "plt.show()"
      ],
      "execution_count": null,
      "outputs": [
        {
          "output_type": "display_data",
          "data": {
            "image/png": "[encoded data removed]",
            "text/plain": [
              "<Figure size 432x288 with 1 Axes>"
            ]
          },
          "metadata": {
            "needs_background": "light"
          }
        }
      ]
    },
    {
      "cell_type": "code",
      "metadata": {
        "id": "TyT4eiE_ovbT",
        "colab": {
          "base_uri": "https://localhost:8080/",
          "height": 423
        },
        "outputId": "61102741-dcaf-4699-a157-5d9ac273129d"
      },
      "source": [
        "# Create a function to compute negative (-1), neutral (0) and positive (+1) analysis\n",
        "def getAnalysis(score):\n",
        " if score < 0:\n",
        "  return 'Negative'\n",
        " elif score == 0:\n",
        "  return 'Neutral'\n",
        " else:\n",
        "  return 'Positive'\n",
        "df['Analysis'] = df['Polarity'].apply(getAnalysis)\n",
        "# Show the dataframe\n",
        "df"
      ],
      "execution_count": null,
      "outputs": [
        {
          "output_type": "execute_result",
          "data": {
            "text/html": [
              "<div>\n",
              "<style scoped>\n",
              "    .dataframe tbody tr th:only-of-type {\n",
              "        vertical-align: middle;\n",
              "    }\n",
              "\n",
              "    .dataframe tbody tr th {\n",
              "        vertical-align: top;\n",
              "    }\n",
              "\n",
              "    .dataframe thead th {\n",
              "        text-align: right;\n",
              "    }\n",
              "</style>\n",
              "<table border=\"1\" class=\"dataframe\">\n",
              "  <thead>\n",
              "    <tr style=\"text-align: right;\">\n",
              "      <th></th>\n",
              "      <th>Tweets</th>\n",
              "      <th>Subjectivity</th>\n",
              "      <th>Polarity</th>\n",
              "      <th>Analysis</th>\n",
              "    </tr>\n",
              "  </thead>\n",
              "  <tbody>\n",
              "    <tr>\n",
              "      <th>0</th>\n",
              "      <td>Robots will play a huge part in our future, an...</td>\n",
              "      <td>0.615625</td>\n",
              "      <td>0.221875</td>\n",
              "      <td>Positive</td>\n",
              "    </tr>\n",
              "    <tr>\n",
              "      <th>1</th>\n",
              "      <td>Accelerating long-duration energy storage inno...</td>\n",
              "      <td>0.875000</td>\n",
              "      <td>0.375000</td>\n",
              "      <td>Positive</td>\n",
              "    </tr>\n",
              "    <tr>\n",
              "      <th>2</th>\n",
              "      <td>The  is supporting GIISER which is working to ...</td>\n",
              "      <td>0.287500</td>\n",
              "      <td>0.187500</td>\n",
              "      <td>Positive</td>\n",
              "    </tr>\n",
              "    <tr>\n",
              "      <th>3</th>\n",
              "      <td>South Africa did the right thing by reporting ...</td>\n",
              "      <td>0.607143</td>\n",
              "      <td>0.183810</td>\n",
              "      <td>Positive</td>\n",
              "    </tr>\n",
              "    <tr>\n",
              "      <th>4</th>\n",
              "      <td>Experts like Trevor Bedford have done an excel...</td>\n",
              "      <td>0.818182</td>\n",
              "      <td>0.412121</td>\n",
              "      <td>Positive</td>\n",
              "    </tr>\n",
              "    <tr>\n",
              "      <th>...</th>\n",
              "      <td>...</td>\n",
              "      <td>...</td>\n",
              "      <td>...</td>\n",
              "      <td>...</td>\n",
              "    </tr>\n",
              "    <tr>\n",
              "      <th>95</th>\n",
              "      <td>A global response will help the world end the ...</td>\n",
              "      <td>0.480000</td>\n",
              "      <td>0.320000</td>\n",
              "      <td>Positive</td>\n",
              "    </tr>\n",
              "    <tr>\n",
              "      <th>96</th>\n",
              "      <td>Earlier I shared three actions that leaders co...</td>\n",
              "      <td>0.500000</td>\n",
              "      <td>0.250000</td>\n",
              "      <td>Positive</td>\n",
              "    </tr>\n",
              "    <tr>\n",
              "      <th>97</th>\n",
              "      <td>If we want to stop Alzheimer’s disease, one of...</td>\n",
              "      <td>0.375000</td>\n",
              "      <td>0.375000</td>\n",
              "      <td>Positive</td>\n",
              "    </tr>\n",
              "    <tr>\n",
              "      <th>98</th>\n",
              "      <td>There are three things that can be done in the...</td>\n",
              "      <td>0.500000</td>\n",
              "      <td>0.200000</td>\n",
              "      <td>Positive</td>\n",
              "    </tr>\n",
              "    <tr>\n",
              "      <th>99</th>\n",
              "      <td>WorldAlzheimersDay is an inspiring reminder th...</td>\n",
              "      <td>0.885417</td>\n",
              "      <td>0.277083</td>\n",
              "      <td>Positive</td>\n",
              "    </tr>\n",
              "  </tbody>\n",
              "</table>\n",
              "<p>100 rows × 4 columns</p>\n",
              "</div>"
            ],
            "text/plain": [
              "                                               Tweets  ...  Analysis\n",
              "0   Robots will play a huge part in our future, an...  ...  Positive\n",
              "1   Accelerating long-duration energy storage inno...  ...  Positive\n",
              "2   The  is supporting GIISER which is working to ...  ...  Positive\n",
              "3   South Africa did the right thing by reporting ...  ...  Positive\n",
              "4   Experts like Trevor Bedford have done an excel...  ...  Positive\n",
              "..                                                ...  ...       ...\n",
              "95  A global response will help the world end the ...  ...  Positive\n",
              "96  Earlier I shared three actions that leaders co...  ...  Positive\n",
              "97  If we want to stop Alzheimer’s disease, one of...  ...  Positive\n",
              "98  There are three things that can be done in the...  ...  Positive\n",
              "99  WorldAlzheimersDay is an inspiring reminder th...  ...  Positive\n",
              "\n",
              "[100 rows x 4 columns]"
            ]
          },
          "metadata": {},
          "execution_count": 15
        }
      ]
    },
    {
      "cell_type": "code",
      "metadata": {
        "colab": {
          "base_uri": "https://localhost:8080/"
        },
        "id": "crOokDDROotX",
        "outputId": "b5a0394c-7054-481e-cf48-c995f7753a8a"
      },
      "source": [
        "# Printing positive tweets \n",
        "print('Printing positive tweets:\\n')\n",
        "j=1\n",
        "sortedDF = df.sort_values(by=['Polarity']) #Sort the tweets\n",
        "for i in range(0, sortedDF.shape[0] ):\n",
        "  if( sortedDF['Analysis'][i] == 'Positive'):\n",
        "    print(str(j) + ') '+ sortedDF['Tweets'][i])\n",
        "    print()\n",
        "    j= j+1"
      ],
      "execution_count": null,
      "outputs": [
        {
          "output_type": "stream",
          "name": "stdout",
          "text": [
            "Printing positive tweets:\n",
            "\n",
            "1) Robots will play a huge part in our future, and fiction like Kazuo Ishiguro's Klara and the Sun is a great way to explore what that might mean. \n",
            "\n",
            "2) Accelerating long-duration energy storage innovation can significantly reduce annual CO2 emissions and lay the foundation for a net-zero economy by 2050. \n",
            "\n",
            "3) The  is supporting GIISER which is working to increase the in-country capacity for rapid evaluation of variants on the African continent. This will help us better understand variants of concern and how the current vaccines may perform. \n",
            "\n",
            "4) South Africa did the right thing by reporting these cases. They have invested heavily in R&amp;D including genomic sequencing capabilities which have made it possible to quickly identify variants, like Omicron, and help the world respond appropriately.\n",
            "\n",
            "5) Experts like Trevor Bedford have done an excellent job explaining what scientists have learned so far about the new variant of concern known as Omicron. \n",
            "\n",
            "6) I made this video a few months ago to help explain what happens when a virus mutates. You can read more about the ways in which new variants are (and aren’t) complicating the pandemic here:  \n",
            "\n",
            "7) I usually read a lot of non-fiction books, but lately I’ve found myself drawn back to the kinds of novels I would’ve loved as a kid. These were some of my favorites this year: \n",
            "\n",
            "Which do you like better?\n",
            "\n",
            "8) When I was a kid, I was obsessed with science fiction. But ’s latest book Project Hail Mary is a fun read even if you aren’t a sci-fi fan. I finished the whole thing in one weekend. \n",
            "\n",
            "9) I read a lot of great books this year. These were some of my favorites. \n",
            "\n",
            "10) I really enjoyed reading these five books this year, and I think you will too:  \n",
            "\n",
            "11) 2021 saw incredible innovation in health and climate. I am excited about many of these advancements and look forward to seeing what’s next. \n",
            "\n",
            "12) I love the message in ’s new book that in order to eliminate the Green Premiums, we need to make a scalable plan now:  \n",
            "\n",
            "13) The bipartisan Infrastructure Investment and Jobs Act is an important step on America’s path to achieving net-zero emissions. But the job is not done. Congress should also pass the Build Back Better Act to help accelerate development of the climate solutions we need. \n",
            "\n",
            "14) Data sharing and global collaboration move us closer to new Alzheimers diagnostics, treatments, and cures. I’m optimistic about what lies ahead:  \n",
            "\n",
            "15) Data on student outcomes can help institutional leaders and policymakers better understand the economic value that colleges deliver to students. This new tool makes that data publicly available—a critical step toward a more equitable higher ed system. \n",
            "\n",
            "16) Poverty and the world’s top global health problems are closely connected. By improving one, we can make progress towards fixing the other:  \n",
            "\n",
            "17) The effects of climate change are affecting many aspects of our lives. By working to minimize its effects, we are also working to improve global health. However, ending malaria needs to (and should) happen faster:  \n",
            "\n",
            "18) I recently had the chance to meet 36 incredible graduate students working to endmalaria. Here are some of my favorite questions they asked.\n",
            "\n",
            "19) I recently met with 36 remarkable graduate students who made me more optimistic than ever that we can EndMalaria. \n",
            "\n",
            "20) Many thanks to _Ma for helping us spotlight the Grand Challenges in Global Health - and for this beautiful performance with the 's own Chris Karp. It’s always fun to find out your colleague has a hidden talent. \n",
            "\n",
            "21) Setting concrete goals is a critical first step to solving any problem. I’m impressed by ’s approach to identifying the objectives and key results needed to track our progress on climate. \n",
            "\n",
            "22) COVID-19 will not be the last pandemic threat the world faces. I spoke to the GrandChallenges community about the ambitious innovation agenda we need to end this crisis and be ready to respond to the next. \n",
            "\n",
            "23) I’m proud that  Energy is a part of the First Movers Coalition. Our efforts with , , and other partners will help to scale the clean technologies that will become the foundation of our net-zero future. \n",
            "\n",
            "24) I’m grateful for the leadership of our  Energy Catalyst public and private sector partners. By taking coordinated, courageous climate action, we can lower Green Premiums and deploy the clean technologies that will help us reach net zero. \n",
            "\n",
            "25) Getting to zero emissions will be the hardest thing people have ever done. This was a great conversation about the power of innovation and what the world can accomplish if we work together. \n",
            "\n",
            "26) Thank you,  for your leadership. The commitment of  and the innovate spirit of our National Labs will drive the breakthroughs we need to help the whole world get to NetZero. \n",
            "\n",
            "27) I’m excited about  Energy’s expanded work with . Thank you,  for your partnership. \n",
            "\n",
            "28) _voorhies: Smallholder agriculture is a pathway out of poverty for so many. Bold action at COP26 and increased funding for …\n",
            "\n",
            "29) Thank you,  for your commitment to repairing our planet. It was inspiring to see the ingenuity and innovation of the  finalists. \n",
            "\n",
            "30) Great to see ’s commitment alongside global leaders present  today. The world needs bold action to support the development of new technology to slow emissions and help the world adapt to the changing climate. \n",
            "\n",
            "31) . Energy Catalyst is bringing together private and public sector leaders to invest in innovation and accelerate clean technologies. , , and  are joining our efforts to help fund solutions that will ignite a green industrial revolution. \n",
            "\n",
            "32) Unless smallholder farmers can adapt to climate change, we will lose the global battle against hunger and poverty.  is rising to the challenge and supporting major investments in  to power agricultural innovation. \n",
            "\n",
            "33) : Had an excellent meeting with  at the  Summit. We discussed a wide range of subjects including ways to st…\n",
            "\n",
            "34) Encouraged to discuss with PM  on the sidelines of COP26 the potential of further investments in science, innovation and transformative agriculture R&amp;D as an important foundation for mitigating impact of climate change on small landowning farmers  . \n",
            "\n",
            "35) One of my top priorities here at COP26 is making sure that the world prioritizes scaling clean technology innovation. Here is the message I delivered to world leaders earlier today: \n",
            "\n",
            "36) By bringing the world together at COP26, we can find more ways to accelerate the development and adoption of the clean technologies we need to reach net-zero emissions. \n",
            "\n",
            "37) I hope Congress passes the Build Back Better Act and the Infrastructure Investment and Jobs Act fast. We can’t wait another moment. \n",
            "\n",
            "38) Good to see this commitment by  to help ensure from the outset that molnupiravir, a potential treatment for COVID-19, will be available to many more nations. \n",
            "\n",
            "39) To avoid a climate disaster, we need young people’s ideas and energy. College and university students anywhere in the world can download my book for free:  \n",
            "\n",
            "40) It’s great to see the strong commitment of partners like  and the dedication on the front line to eradicate polio. On WorldPolioDay we recognize progress and acknowledge that the fight continues. \n",
            "\n",
            "41) This week, any college or university student anywhere in the world can download my book How to Avoid a Climate Disaster for free. \n",
            "\n",
            "42) : A polio-free world is possible, but only if everyone works together. This WorldPolioDay, we’re proud to continue work…\n",
            "\n",
            "43) This WorldPolioDay you can support Shumaila and other polio workers by donating to ’s fight against polio. Our foundation is giving a 2-to-1 match to every donation. Learn more: \n",
            "\n",
            "44) I’ve been binging geography videos lately. I liked this one where Geography King explains several really fascinating quirks of US geography (including why it doesn’t actually rain as much as people think in my hometown). \n",
            "\n",
            "45) The world is so close to ending polio thanks to heroes like Shumaila Rehmani:  WorldPolioDay \n",
            "\n",
            "46) Our funding is only part of the solution. More donors will need to step up to make sure molnupiravir is available to all as quickly as possible.\n",
            "\n",
            "47) Everyone deserves equitable access to healthcare. That’s why we engaged partners like  and  to find more affordable, safe materials that generic manufacturers can use to produce medicines at a lower cost.\n",
            "\n",
            "48) We’ve done this before. In 2017, the  worked with partners and generic suppliers to bring improved HIV therapies to more than 18 million people in lower-income countries.\n",
            "\n",
            "49) If we’re going to end the acute phase of the pandemic, life-saving drugs like molnupiravir must be available to everyone who needs them. \n",
            "\n",
            "50) By investing in direct air capture, clean hydrogen, long-duration energy storage, and sustainable aviation fuel, we’ll create a new industrial revolution that will power the global clean energy economy: \n",
            "\n",
            "51) Earlier today I attended the GlobalInvestmentSummit where we announced  Energy Catalyst’s latest partnership to accelerate climate technologies. Thanks to the UK government &amp;  for taking bold action. \n",
            "\n",
            "52) : Today, we’re excited to announce a new partnership between the UK Government and BE Catalyst. Our collaboration with …\n",
            "\n",
            "53) I’m grateful to have joined  today to highlight the important work that  Energy Catalyst is doing to accelerate clean technologies. Our partnership with the UK will be critical to building the net-zero economy. \n",
            "\n",
            "54) Jenn and Nayel, it’s impossible to put into words how happy it makes me to see you filled with joy on your wedding day. I’m so proud of you both for everything you’ve accomplished in your lives so far and everything you will do with your future together. \n",
            "\n",
            "55) Reaching net zero will take bold action and creativity, and the first cohort of  Energy Fellows makes me optimistic that we can propel a new industrial revolution. \n",
            "\n",
            "56) I wrote about two ways to achieve vaccine equity in the future. If the world makes the right investments and decisions now, we can make things better next time. And maybe even make sure there is no next time at all. \n",
            "\n",
            "57) Inequity in health is not new. Each year, more than 5 million children—almost entirely in low- and middle-income countries—die before their fifth birthday from mostly preventable diseases. Reducing this gap has been the Gates Foundation’s top priority for more than 20 years.\n",
            "\n",
            "58) : If COVID-19 reminds us we live in an age of pandemics, then heeding the lessons from fighting malaria, a pandemic of the ag…\n",
            "\n",
            "59) What a fantastic leader Dr. Collins has been. The U.S. is lucky to have amazing scientists and public health professionals like him. He leaves an incredible legacy. \n",
            "\n",
            "60) Thanks, as always,  for the thoughtful conversation. I look forward to continuing to talk with business leaders, governments, and activists at COP26 about how we can work together to avoid a climate disaster. \n",
            "\n",
            "61) No one person can solve climate change on their own. However, if we make breakthroughs in zero-carbon innovations, we can avoid a climate disaster together. Thanks to _Gesagt for creating this informative video. \n",
            "\n",
            "62) Happy Birthday, President Carter. You set a great example for all of us, and I am always inspired by your amazing work. \n",
            "\n",
            "63) The College  is helping students navigate the challenges of continuing their education after high school. \n",
            "\n",
            "64) Girin Beeharry was an extraordinary leader and good friend. I’m saddened by his death and inspired by his work to improve lives in India and around the world. \n",
            "\n",
            "65) I’m excited about the launch of  by Breakthrough Energy. The first issue includes an important discussion with U.S. Energy Secretary  and new data showing record amounts of cleantech investment. \n",
            "\n",
            "66) Congratulations  on this well-deserved recognition. Like you, I’m optimistic that we will be able to bring this pandemic to an end. Your work with the  and many others will also help us to better prepare for future pandemics. \n",
            "\n",
            "67) Congratulations  on the national launch of Ayushman Bharat Digital Mission. This digital health infrastructure will help ensure equitable, accessible healthcare delivery and accelerate progress on India’s health goals.  _INDIA \n",
            "\n",
            "68) What if your smart phone could detect Alzheimer’s? 's Diagnostics Accelerator is working to make this a reality: \n",
            "\n",
            "69) India is a great example of a country that has invested in its capacity. Today 2/3rds of all the world's children receive a vaccine that was made in India: \n",
            "\n",
            "70) Expanding the geography of vaccine manufacturing to better meet vaccine needs, both for pandemics and routine immunization, is a critical task. \n",
            "\n",
            "71) Thanks for having me on the show, ! And thanks to the all of the late night hosts for focusing on this critical challenge. I’m optimistic that we can come together to avoid a climate disaster. \n",
            "\n",
            "72) Thanks for the conversation and for your leadership in helping to end this pandemic and prevent the next one. \n",
            "\n",
            "73) A global response will help the world end the COVID crisis. I'm glad to see so many leaders coming together at this U.S.-led virtual Global COVID-19 summit, and look forward to their continued efforts to help the world move out of the acute phase of this pandemic. \n",
            "\n",
            "74) Earlier I shared three actions that leaders could take to help the world out of the pandemic. For those who want to go deeper, the  shares more detail on what’s needed to end this crisis: \n",
            "\n",
            "75) If we want to stop Alzheimer’s disease, one of the biggest things we need to develop is a reliable, affordable, and accessible diagnostic. Breakthroughs in testing may someday soon let us substantially alter the course of the disease:  WorldAlzheimersDay \n",
            "\n",
            "76) There are three things that can be done in the coming months to bring an end to the acute phase of the pandemic and set the world on a different timeline in preparation for the next. \n",
            "\n",
            "77) WorldAlzheimersDay is an inspiring reminder that hope is on the horizon. Brilliant scientists all over the world are working hard to stop Alzheimer’s disease—and they’re making terrific progress. \n",
            "\n"
          ]
        }
      ]
    },
    {
      "cell_type": "code",
      "metadata": {
        "colab": {
          "base_uri": "https://localhost:8080/"
        },
        "id": "vkbq6nACOtsM",
        "outputId": "886f925e-1630-4b1b-d54f-1dfd910cb9b8"
      },
      "source": [
        "# Printing negative tweets  \n",
        "print('Printing negative tweets:\\n')\n",
        "j=1\n",
        "sortedDF = df.sort_values(by=['Polarity'],ascending=False) #Sort the tweets\n",
        "for i in range(0, sortedDF.shape[0] ):\n",
        "  if( sortedDF['Analysis'][i] == 'Negative'):\n",
        "    print(str(j) + ') '+sortedDF['Tweets'][i])\n",
        "    print()\n",
        "    j=j+1"
      ],
      "execution_count": null,
      "outputs": [
        {
          "output_type": "stream",
          "name": "stdout",
          "text": [
            "Printing negative tweets:\n",
            "\n",
            "1) There’s lots of speculation about what Shakespeare’s life was really like, but we do know that his son died at age 11. Hamnet shares the story of how grief tore the Shakespeare family apart. \n",
            "\n",
            "2) It’s hard to believe that it’s been 50 years since the 4004 kickstarted the PC era. I still remember reading about its release with Paul and dreaming about how the world's first microprocessor might shape the future. \n",
            "\n",
            "3) About 3.6 billion people—nearly half of the world’s population—lack toilets or use unsafe sanitation. This WorldToiletDay, I’m optimistic this sanitation crisis can be solved. \n",
            "\n",
            "4) To tackle the biggest global health challenges, all countries must have access to vaccines and other health innovations. This $150M commitment from the foundation and  will help low- and middle-income countries get the essential supplies they need. \n",
            "\n",
            "5) In addition to investments in reducing emissions to slow climate change, we need to help those already impacted by climate change adapt. \n",
            "\n",
            "6) At this year’s UN Climate Conference, innovation will take center stage and I’m optimistic about the road ahead. \n",
            "\n",
            "7) Still, the disparities in access to the COVID-19 vaccine are shocking and unjust. Only 2 percent of people in low-income countries have received any COVID-19 vaccines. And the gap may be getting even larger as rich-world governments buy up extra doses to serve as booster shots.\n",
            "\n",
            "8) More than 80% of COVID-19 vaccines have been administered in high- and upper-middle-income countries while less than 1% have been administered in low-income countries. This is both profoundly unfair and hinders progress towards ending the pandemic:  \n",
            "\n"
          ]
        }
      ]
    },
    {
      "cell_type": "code",
      "metadata": {
        "colab": {
          "base_uri": "https://localhost:8080/",
          "height": 405
        },
        "id": "GRq75__sOxZC",
        "outputId": "1a572652-bace-4bba-f266-1445a51d3b09"
      },
      "source": [
        "# Plotting \n",
        "plt.figure(figsize=(8,6)) \n",
        "for i in range(0, df.shape[0]):\n",
        "  plt.scatter(df[\"Polarity\"][i], df[\"Subjectivity\"][i], color='Blue') \n",
        "# plt.scatter(x,y,color)   \n",
        "plt.title('Sentiment Analysis') \n",
        "plt.xlabel('Polarity') \n",
        "plt.ylabel('Subjectivity') \n",
        "plt.show()"
      ],
      "execution_count": null,
      "outputs": [
        {
          "output_type": "display_data",
          "data": {
            "image/png": "[encoded data removed]",
            "text/plain": [
              "<Figure size 576x432 with 1 Axes>"
            ]
          },
          "metadata": {
            "needs_background": "light"
          }
        }
      ]
    },
    {
      "cell_type": "code",
      "metadata": {
        "colab": {
          "base_uri": "https://localhost:8080/"
        },
        "id": "bf28_rNfO3Q8",
        "outputId": "629ca798-26c9-4236-d8d3-f408678a341e"
      },
      "source": [
        "# Print the percentage of positive tweets\n",
        "ptweets = df[df.Analysis == 'Positive']\n",
        "ptweets = ptweets['Tweets']\n",
        "ptweets\n",
        "\n",
        "round( (ptweets.shape[0] / df.shape[0]) * 100 , 1)"
      ],
      "execution_count": null,
      "outputs": [
        {
          "output_type": "execute_result",
          "data": {
            "text/plain": [
              "77.0"
            ]
          },
          "metadata": {},
          "execution_count": 19
        }
      ]
    },
    {
      "cell_type": "code",
      "metadata": {
        "colab": {
          "base_uri": "https://localhost:8080/"
        },
        "id": "jJkFdY_9O4_M",
        "outputId": "1cbe77ad-6150-46ef-aa49-c827c4af98ac"
      },
      "source": [
        "# Print the percentage of negative tweets\n",
        "ntweets = df[df.Analysis == 'Negative']\n",
        "ntweets = ntweets['Tweets']\n",
        "ntweets\n",
        "\n",
        "round( (ntweets.shape[0] / df.shape[0]) * 100, 1)"
      ],
      "execution_count": null,
      "outputs": [
        {
          "output_type": "execute_result",
          "data": {
            "text/plain": [
              "8.0"
            ]
          },
          "metadata": {},
          "execution_count": 20
        }
      ]
    },
    {
      "cell_type": "code",
      "metadata": {
        "colab": {
          "base_uri": "https://localhost:8080/"
        },
        "id": "rWemP_8pO_h1",
        "outputId": "f14268e9-82b9-4a22-9bee-2627d3fb82c3"
      },
      "source": [
        "# Show the value counts\n",
        "df['Analysis'].value_counts()"
      ],
      "execution_count": null,
      "outputs": [
        {
          "output_type": "execute_result",
          "data": {
            "text/plain": [
              "Positive    77\n",
              "Neutral     15\n",
              "Negative     8\n",
              "Name: Analysis, dtype: int64"
            ]
          },
          "metadata": {},
          "execution_count": 21
        }
      ]
    },
    {
      "cell_type": "code",
      "metadata": {
        "colab": {
          "base_uri": "https://localhost:8080/",
          "height": 331
        },
        "id": "r1tKguVDPDif",
        "outputId": "f58ffd73-519d-4d39-98f9-f433ce4b43ad"
      },
      "source": [
        "# Plotting and visualizing the counts\n",
        "plt.title('Sentiment Analysis')\n",
        "plt.xlabel('Sentiment')\n",
        "plt.ylabel('Counts')\n",
        "df['Analysis'].value_counts().plot(kind = 'bar')\n",
        "plt.show()"
      ],
      "execution_count": null,
      "outputs": [
        {
          "output_type": "display_data",
          "data": {
            "image/png": "[encoded data removed]",
            "text/plain": [
              "<Figure size 432x288 with 1 Axes>"
            ]
          },
          "metadata": {
            "needs_background": "light"
          }
        }
      ]
    }
  ]
}